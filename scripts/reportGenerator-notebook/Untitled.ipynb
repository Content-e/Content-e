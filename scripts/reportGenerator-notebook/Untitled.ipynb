{
 "cells": [
  {
   "cell_type": "code",
   "execution_count": 1,
   "id": "5f7cd5c8",
   "metadata": {},
   "outputs": [],
   "source": [
    "import boto3\n",
    "from boto3.dynamodb.conditions import Key\n",
    "dynamodb = boto3.resource('dynamodb')\n",
    "table = dynamodb.Table('ApprovedAds-daf5ud4kqze7peoeykz43ykgcm-staging')\n",
    "# video_id = 25\n",
    "response = table.query(\n",
    "    IndexName='approvedAdsByStatus',\n",
    "    KeyConditionExpression=Key('status').eq('ACTIVE')\n",
    ")"
   ]
  },
  {
   "cell_type": "code",
   "execution_count": 12,
   "id": "06c1117a",
   "metadata": {},
   "outputs": [],
   "source": [
    "import json"
   ]
  },
  {
   "cell_type": "code",
   "execution_count": 2,
   "id": "c32710b4",
   "metadata": {},
   "outputs": [],
   "source": [
    "from platform import python_version"
   ]
  },
  {
   "cell_type": "code",
   "execution_count": 3,
   "id": "6dfd4c2d",
   "metadata": {},
   "outputs": [
    {
     "data": {
      "text/plain": [
       "'3.11.2'"
      ]
     },
     "execution_count": 3,
     "metadata": {},
     "output_type": "execute_result"
    }
   ],
   "source": [
    "python_version()"
   ]
  },
  {
   "cell_type": "code",
   "execution_count": 6,
   "id": "99d06b6c",
   "metadata": {},
   "outputs": [],
   "source": [
    "pf_id = response['Items'][0]['user_profile_id']"
   ]
  },
  {
   "cell_type": "code",
   "execution_count": 7,
   "id": "7131ecb8",
   "metadata": {},
   "outputs": [],
   "source": [
    "table = dynamodb.Table('UserProfile-daf5ud4kqze7peoeykz43ykgcm-staging')\n",
    "# video_id = 25\n",
    "response = table.get_item(Key={'id': pf_id})"
   ]
  },
  {
   "cell_type": "code",
   "execution_count": 15,
   "id": "68fba322",
   "metadata": {},
   "outputs": [
    {
     "data": {
      "text/plain": [
       "'ca1010d92c65ad0e521f048f261131c9e1d10e34'"
      ]
     },
     "execution_count": 15,
     "metadata": {},
     "output_type": "execute_result"
    }
   ],
   "source": [
    "access_token = json.loads(response['Item']['tiktokAccountAccess'])\n",
    "access_token['access_token']"
   ]
  },
  {
   "cell_type": "code",
   "execution_count": 17,
   "id": "3edc39d2",
   "metadata": {},
   "outputs": [],
   "source": [
    "from datetime import datetime, timedelta\n",
    "yesterday = datetime.now() - timedelta(1)\n",
    "yesterday = yesterday.strftime('%Y-%m-%d')\n",
    "today = datetime.today().strftime('%Y-%m-%d')"
   ]
  },
  {
   "cell_type": "code",
   "execution_count": 28,
   "id": "9e8eda06",
   "metadata": {},
   "outputs": [
    {
     "name": "stdout",
     "output_type": "stream",
     "text": [
      "{'code': 0, 'message': 'OK', 'request_id': '20230419215341E37C1E220446220DF922', 'data': {'list': [{'metrics': {'impressions': '0', 'spend': '0.000'}, 'dimensions': {'ad_id': '1762878240189553'}}], 'page_info': {'page': 1, 'total_page': 1, 'total_number': 1, 'page_size': 1}}}\n"
     ]
    }
   ],
   "source": [
    "import requests\n",
    "\n",
    "url = \"https://business-api.tiktok.com/open_api/v1.3/report/integrated/get/?advertiser_id=7204741586284969986&report_type=BASIC&dimensions=[\\\"ad_id\\\"]&data_level=AUCTION_AD&filtering=[{\\\"field_name\\\":\\\"ad_ids\\\",\\\"filter_type\\\": \\\"IN\\\",\\\"filter_value\\\": \\\"[\\\\\\\"1762878240189553\\\\\\\"]\\\"}]\"\n",
    "url += f\"&start_date={yesterday}&end_date={today}\"\n",
    "payload={}\n",
    "headers = {\n",
    "  'Content-Type': 'application/json',\n",
    "  'Access-Token': access_token['access_token']\n",
    "}\n",
    "\n",
    "response = requests.request(\"GET\", url, headers=headers, data=payload)\n",
    "\n",
    "print(json.loads(response.text))\n"
   ]
  },
  {
   "cell_type": "code",
   "execution_count": null,
   "id": "18f1b2b2",
   "metadata": {},
   "outputs": [],
   "source": []
  }
 ],
 "metadata": {
  "kernelspec": {
   "display_name": "Python 3 (ipykernel)",
   "language": "python",
   "name": "python3"
  },
  "language_info": {
   "codemirror_mode": {
    "name": "ipython",
    "version": 3
   },
   "file_extension": ".py",
   "mimetype": "text/x-python",
   "name": "python",
   "nbconvert_exporter": "python",
   "pygments_lexer": "ipython3",
   "version": "3.11.2"
  }
 },
 "nbformat": 4,
 "nbformat_minor": 5
}
